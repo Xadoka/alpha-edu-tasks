{
 "cells": [
  {
   "cell_type": "code",
   "execution_count": 14,
   "id": "f4136d1b-38c1-48fb-a0f0-a2281446bbc7",
   "metadata": {},
   "outputs": [],
   "source": [
    "import numpy as np\n",
    "import pandas as pd \n",
    "import matplotlib.pyplot as plt \n",
    "\n",
    "class NumPYPandasBasics:\n",
    "\tdef __init__(self):\n",
    "\t\tprint(\"Привет\")\n",
    "\n",
    "\tdef numpy_example(self):\n",
    "\t\tprint(\"\\n за неделю темп\")\n",
    "\t\ttemp = np.array([20, 22, 19, 21, 23, 24])\n",
    "\t\tprint(\"Темп: \", temp )"
   ]
  },
  {
   "cell_type": "code",
   "execution_count": 16,
   "id": "a315f990-31d3-4c65-855a-97e2768569b9",
   "metadata": {},
   "outputs": [
    {
     "ename": "NameError",
     "evalue": "name 'numpy_example' is not defined",
     "output_type": "error",
     "traceback": [
      "\u001b[1;31m---------------------------------------------------------------------------\u001b[0m",
      "\u001b[1;31mNameError\u001b[0m                                 Traceback (most recent call last)",
      "Cell \u001b[1;32mIn[16], line 1\u001b[0m\n\u001b[1;32m----> 1\u001b[0m numpy_example()\n",
      "\u001b[1;31mNameError\u001b[0m: name 'numpy_example' is not defined"
     ]
    }
   ],
   "source": [
    "numpy_example()"
   ]
  },
  {
   "cell_type": "code",
   "execution_count": null,
   "id": "49e194f4-3e62-493c-b3ef-0c5e77a47d66",
   "metadata": {},
   "outputs": [],
   "source": []
  }
 ],
 "metadata": {
  "kernelspec": {
   "display_name": "Python 3 (ipykernel)",
   "language": "python",
   "name": "python3"
  },
  "language_info": {
   "codemirror_mode": {
    "name": "ipython",
    "version": 3
   },
   "file_extension": ".py",
   "mimetype": "text/x-python",
   "name": "python",
   "nbconvert_exporter": "python",
   "pygments_lexer": "ipython3",
   "version": "3.12.7"
  }
 },
 "nbformat": 4,
 "nbformat_minor": 5
}
